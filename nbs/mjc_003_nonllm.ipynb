{
 "cells": [
  {
   "cell_type": "code",
   "execution_count": 1,
   "metadata": {},
   "outputs": [],
   "source": [
    "import pandas as pd\n",
    "import numpy as np\n",
    "import matplotlib.pyplot as plt\n",
    "\n",
    "from pathlib import Path\n",
    "import json, re, os\n",
    "from tqdm.auto import tqdm\n"
   ]
  },
  {
   "cell_type": "code",
   "execution_count": 2,
   "metadata": {},
   "outputs": [
    {
     "data": {
      "text/plain": [
       "10236"
      ]
     },
     "execution_count": 2,
     "metadata": {},
     "output_type": "execute_result"
    }
   ],
   "source": [
    "fs = sorted(Path('../data/cache').glob('*.md'))\n",
    "len(fs)"
   ]
  },
  {
   "cell_type": "code",
   "execution_count": 3,
   "metadata": {},
   "outputs": [],
   "source": [
    "# Python script to extract links from Markdown using libraries\n",
    "import markdown\n",
    "from bs4 import BeautifulSoup\n",
    "\n",
    "# now extract links from these\n",
    "def extract_links_library(markdown_text):\n",
    "    # Convert Markdown to HTML\n",
    "    html = markdown.markdown(markdown_text)\n",
    "    \n",
    "    # Parse HTML with BeautifulSoup\n",
    "    soup = BeautifulSoup(html, 'html.parser')\n",
    "    \n",
    "    # Find all <a> tags and extract href attributes\n",
    "    links = [a['href'] for a in soup.find_all('a', href=True)]\n",
    "    \n",
    "    return links\n",
    "\n",
    "data = []\n",
    "for f in fs:\n",
    "    s = f.open().read()\n",
    "    data += extract_links_library(s)"
   ]
  },
  {
   "cell_type": "code",
   "execution_count": 4,
   "metadata": {},
   "outputs": [],
   "source": [
    "df_links = pd.Series(data).value_counts()\n",
    "# df_links"
   ]
  },
  {
   "cell_type": "code",
   "execution_count": 5,
   "metadata": {},
   "outputs": [
    {
     "data": {
      "text/plain": [
       "49                 https://www.fanfiction.net/s/5193644\n",
       "49    https://www.fictionpress.com/s/2961893/1/Mothe...\n",
       "42          https://www.youtube.com/watch?v=kbyTOAlhRHk\n",
       "42    https://forums.sufficientvelocity.com/threads/...\n",
       "40    https://www.fanfiction.net/s/10360716/1/The-Me...\n",
       "                            ...                        \n",
       "2     https://www.fanfiction.net/s/10360716/6/The-Me...\n",
       "2     https://www.goodreads.com/series/291662-lightb...\n",
       "2     https://forums.spacebattles.com/threads/a-pale...\n",
       "2     https://forums.spacebattles.com/threads/an-und...\n",
       "2     http://www.lspace.org/books/reading-order-guid...\n",
       "Length: 2497, dtype: object"
      ]
     },
     "execution_count": 5,
     "metadata": {},
     "output_type": "execute_result"
    }
   ],
   "source": [
    "blocklist = ['reddit', 'redact', 'pastebin', 'wikipedia', 'docs.google', 'discord','tvtropes.org']\n",
    "df_links = df_links[~df_links.index.str.contains('|'.join(blocklist), regex=True)]\n",
    "df_links = df_links[df_links.index.str.startswith('http')]\n",
    "df_links = df_links[df_links > 1]\n",
    "pd.Series(df_links.index, index=df_links.values)"
   ]
  },
  {
   "cell_type": "code",
   "execution_count": 6,
   "metadata": {},
   "outputs": [
    {
     "data": {
      "text/plain": [
       "<Axes: ylabel='Frequency'>"
      ]
     },
     "execution_count": 6,
     "metadata": {},
     "output_type": "execute_result"
    },
    {
     "data": {
      "image/png": "[encoded data removed]",
      "text/plain": [
       "<Figure size 640x480 with 1 Axes>"
      ]
     },
     "metadata": {},
     "output_type": "display_data"
    }
   ],
   "source": [
    "df_links.plot.hist(bins=25, logy=True)"
   ]
  },
  {
   "cell_type": "code",
   "execution_count": 19,
   "metadata": {},
   "outputs": [],
   "source": [
    "df_links.to_markdown('../outputs/links.md')"
   ]
  },
  {
   "cell_type": "code",
   "execution_count": null,
   "metadata": {},
   "outputs": [],
   "source": []
  }
 ],
 "metadata": {
  "kernelspec": {
   "display_name": ".venv",
   "language": "python",
   "name": "python3"
  },
  "language_info": {
   "codemirror_mode": {
    "name": "ipython",
    "version": 3
   },
   "file_extension": ".py",
   "mimetype": "text/x-python",
   "name": "python",
   "nbconvert_exporter": "python",
   "pygments_lexer": "ipython3",
   "version": "3.10.12"
  }
 },
 "nbformat": 4,
 "nbformat_minor": 2
}
